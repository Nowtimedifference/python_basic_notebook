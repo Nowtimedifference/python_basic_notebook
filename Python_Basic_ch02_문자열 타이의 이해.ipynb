{
 "cells": [
  {
   "cell_type": "markdown",
   "metadata": {},
   "source": [
    "## 1.문자열(string)\n",
    "- 복수개의 문자를 순서대로 나열한 것\n",
    "- 문자열은 '' 또는 \"\" 사이에 문자를 넣어서 생성\n",
    "- 문자열 자체에 '' 또는 \"\"이 있는 경우 각각 그 반대로 사용"
   ]
  },
  {
   "cell_type": "code",
   "execution_count": 2,
   "metadata": {},
   "outputs": [
    {
     "name": "stdout",
     "output_type": "stream",
     "text": [
      "챗봇: \"만나서 반갑습니다.\"\n"
     ]
    }
   ],
   "source": [
    "print('챗봇: \"만나서 반갑습니다.\"')"
   ]
  },
  {
   "cell_type": "code",
   "execution_count": 4,
   "metadata": {},
   "outputs": [
    {
     "name": "stdout",
     "output_type": "stream",
     "text": [
      "Hi\n",
      "Hi\n",
      "\n",
      "      hi\n",
      "      Hello\n",
      "      \n",
      "\n",
      "      hi\n",
      "      \n"
     ]
    }
   ],
   "source": [
    "print('Hi')   # 한 줄 출력\n",
    "print(\"Hi\")   # 한 줄 출력\n",
    "print('''\n",
    "      hi\n",
    "      Hello\n",
    "      ''')\n",
    "print(\"\"\"\n",
    "      hi\n",
    "      \"\"\")"
   ]
  },
  {
   "cell_type": "markdown",
   "metadata": {},
   "source": [
    "## 2.문자열 인덱스(index)\n",
    "- 문자열의 각 문자는 순서(인덱스)가 있음\n",
    "- 첫번째 문자부터 마지막문자까지 순차적으로 인덱스를 가짐\n",
    "- 인덱스의 시작은 0번부터 시작\n",
    "- 인덱스는 공백 포함"
   ]
  },
  {
   "cell_type": "markdown",
   "metadata": {},
   "source": [
    "### 문자 추출\n",
    "- 인덱스번호를 통해서 문자 추출 가능\n",
    "- 인덱스 범위를 벗어나면 error 발생\n",
    "\n",
    "> 변수명.[인덱스번호]. -> name.[3]."
   ]
  },
  {
   "cell_type": "code",
   "execution_count": 25,
   "metadata": {
    "scrolled": false
   },
   "outputs": [
    {
     "name": "stdout",
     "output_type": "stream",
     "text": [
      "o\n",
      " \n"
     ]
    },
    {
     "ename": "IndexError",
     "evalue": "string index out of range",
     "output_type": "error",
     "traceback": [
      "\u001b[1;31m---------------------------------------------------------------------------\u001b[0m",
      "\u001b[1;31mIndexError\u001b[0m                                Traceback (most recent call last)",
      "\u001b[1;32m<ipython-input-25-0fae597791e8>\u001b[0m in \u001b[0;36m<module>\u001b[1;34m\u001b[0m\n\u001b[0;32m      4\u001b[0m \u001b[0mprint\u001b[0m\u001b[1;33m(\u001b[0m\u001b[0mmsg\u001b[0m\u001b[1;33m[\u001b[0m\u001b[1;36m4\u001b[0m\u001b[1;33m]\u001b[0m\u001b[1;33m)\u001b[0m\u001b[1;33m\u001b[0m\u001b[1;33m\u001b[0m\u001b[0m\n\u001b[0;32m      5\u001b[0m \u001b[0mprint\u001b[0m\u001b[1;33m(\u001b[0m\u001b[0mmsg\u001b[0m\u001b[1;33m[\u001b[0m\u001b[1;36m5\u001b[0m\u001b[1;33m]\u001b[0m\u001b[1;33m)\u001b[0m\u001b[1;33m\u001b[0m\u001b[1;33m\u001b[0m\u001b[0m\n\u001b[1;32m----> 6\u001b[1;33m \u001b[0mprint\u001b[0m\u001b[1;33m(\u001b[0m\u001b[0mmsg\u001b[0m\u001b[1;33m[\u001b[0m\u001b[1;36m12\u001b[0m\u001b[1;33m]\u001b[0m\u001b[1;33m)\u001b[0m\u001b[1;33m\u001b[0m\u001b[1;33m\u001b[0m\u001b[0m\n\u001b[0m",
      "\u001b[1;31mIndexError\u001b[0m: string index out of range"
     ]
    }
   ],
   "source": [
    "# 문자열 길이:12    공백포함\n",
    "# 인덱스 범위: 0~11\n",
    "msg = \"Hello Python\"\n",
    "print(msg[4])\n",
    "print(msg[5])\n",
    "print(msg[12])"
   ]
  },
  {
   "cell_type": "markdown",
   "metadata": {},
   "source": [
    "### reverse index(-1)"
   ]
  },
  {
   "cell_type": "code",
   "execution_count": 23,
   "metadata": {},
   "outputs": [
    {
     "name": "stdout",
     "output_type": "stream",
     "text": [
      "n\n",
      "h\n"
     ]
    }
   ],
   "source": [
    "# reverse index는 -1부터 시작 헷갈리지 않기 시험문제\n",
    "\n",
    "msg = \"Hello Python\"\n",
    "\n",
    "print(msg[-1])\n",
    "print(msg[-3])"
   ]
  },
  {
   "cell_type": "markdown",
   "metadata": {},
   "source": [
    "## 3.문자열 슬라이싱\n",
    "- a.[3].은 인덱스를 통해 문자 하나만 추출 가능\n",
    "- 부분 문자열을 추출하고 싶은 경우 슬라이싱 사용\n",
    "- 시작 인덱스 번호가 생략되면 0으로 설정\n",
    "- 끝 인덱스 번호가 생략되면 -1으로 설정\n",
    "\n",
    "> 변수명.[시작:끝].-> name.[3:5].  3~4(끝 인덱스 -1)  #중요"
   ]
  },
  {
   "cell_type": "code",
   "execution_count": 10,
   "metadata": {},
   "outputs": [
    {
     "name": "stdout",
     "output_type": "stream",
     "text": [
      "P\n",
      "Pyhton\n",
      "Pyhton\n",
      " is all you need\n",
      "Pyhton is all you need\n"
     ]
    }
   ],
   "source": [
    "comment = \"Pyhton is all you need\"\n",
    "\n",
    "print(comment[0])\n",
    "print(comment[0:6])  # 0~5\n",
    "print(comment[:6])   # 앞 생략되면 처음부터  0~5\n",
    "print(comment[6:])   # 뒤 생략되면 끝까지  6~끝\n",
    "print(comment[:])    # 처음부터 끝까지"
   ]
  },
  {
   "cell_type": "code",
   "execution_count": 14,
   "metadata": {},
   "outputs": [
    {
     "name": "stdout",
     "output_type": "stream",
     "text": [
      "need\n",
      "need\n",
      "need\n"
     ]
    }
   ],
   "source": [
    "# need만 추출\n",
    "comment = \"Pyhton is all you need\"\n",
    "print(comment[18:22])\n",
    "print(comment[-4:])\n",
    "print(comment[18:])"
   ]
  },
  {
   "cell_type": "markdown",
   "metadata": {},
   "source": [
    "## 4.문자열 멤버 함수"
   ]
  },
  {
   "cell_type": "code",
   "execution_count": 21,
   "metadata": {},
   "outputs": [],
   "source": [
    "str = \"Hello World\""
   ]
  },
  {
   "cell_type": "code",
   "execution_count": 22,
   "metadata": {
    "scrolled": true
   },
   "outputs": [
    {
     "name": "stdout",
     "output_type": "stream",
     "text": [
      "11\n"
     ]
    }
   ],
   "source": [
    "# len() : 문자열 길이를 계산\n",
    "print(len(str))"
   ]
  },
  {
   "cell_type": "code",
   "execution_count": 24,
   "metadata": {},
   "outputs": [
    {
     "name": "stdout",
     "output_type": "stream",
     "text": [
      "HELLO WORLD\n",
      "hello world\n"
     ]
    }
   ],
   "source": [
    "# upper() and lower() : 대문자 또는 소문자로 변경\n",
    "print(str.upper())\n",
    "print(str.lower())"
   ]
  },
  {
   "cell_type": "code",
   "execution_count": 28,
   "metadata": {},
   "outputs": [
    {
     "data": {
      "text/plain": [
       "'Hellj Wjrld'"
      ]
     },
     "execution_count": 28,
     "metadata": {},
     "output_type": "execute_result"
    }
   ],
   "source": [
    "# replace() : 문자열 내의 특정 문자 치환\n",
    "str.replace(\"o\", \"j\")   # 복수개 치완"
   ]
  },
  {
   "cell_type": "code",
   "execution_count": 21,
   "metadata": {},
   "outputs": [
    {
     "name": "stdout",
     "output_type": "stream",
     "text": [
      "['hello ', 'orld ', 'hat a nice ', 'eather']\n",
      "['hello', 'world', 'what', 'a', 'nice', 'weather']\n"
     ]
    }
   ],
   "source": [
    "# split() : 구분자를 기준으로 문자열 분할, default 구분자 공백\n",
    "a = \"hello world what a nice weather\"\n",
    "print(a.split(\"w\"))\n",
    "print(a.split())"
   ]
  },
  {
   "cell_type": "code",
   "execution_count": 30,
   "metadata": {},
   "outputs": [
    {
     "name": "stdout",
     "output_type": "stream",
     "text": [
      "아이디:       chsihyun      , 길이: 20\n",
      "아이디: chsihyun, 길이: 8\n"
     ]
    }
   ],
   "source": [
    "# strip() : 문자열의 좌우공백을 제거   좌 또는 우는 앞에 r or l 붙이기\n",
    "id = \"      chsihyun      \"\n",
    "print(f\"아이디: {id}, 길이: {len(id)}\")\n",
    "print(f\"아이디: {id.strip()}, 길이: {len(id.strip())}\")"
   ]
  },
  {
   "cell_type": "code",
   "execution_count": 35,
   "metadata": {},
   "outputs": [
    {
     "name": "stdout",
     "output_type": "stream",
     "text": [
      "2\n",
      "3\n",
      "6\n",
      "6\n"
     ]
    }
   ],
   "source": [
    "# find() and rfind()\n",
    "# - 문자열 내부의 특정 문자의 인덱스를 출력\n",
    "str = \"Hello Python\"\n",
    "print(str.find(\"l\"))   # .은 참조연산자 하위를 나타냄 str에서 find를 하겠다.\n",
    "# 처음 나온 인덱스만 알려줌\n",
    "print(str.rfind(\"l\"))\n",
    "print(str.find(\"Python\"))   # 문자열을 넣으면 단어 처음의 인덱스를 알려준다.\n",
    "print(str.rfind(\"Python\"))"
   ]
  },
  {
   "cell_type": "code",
   "execution_count": 36,
   "metadata": {},
   "outputs": [
    {
     "name": "stdout",
     "output_type": "stream",
     "text": [
      "True\n",
      "False\n"
     ]
    }
   ],
   "source": [
    "# in() : 특정 문자열을 포함하고 있는지 확인(True, False)\n",
    "\n",
    "print(\"Hi\" in \"Hi Python\")\n",
    "print(\"Hi\" in \"Hello Python\")"
   ]
  }
 ],
 "metadata": {
  "kernelspec": {
   "display_name": "Python 3",
   "language": "python",
   "name": "python3"
  },
  "language_info": {
   "codemirror_mode": {
    "name": "ipython",
    "version": 3
   },
   "file_extension": ".py",
   "mimetype": "text/x-python",
   "name": "python",
   "nbconvert_exporter": "python",
   "pygments_lexer": "ipython3",
   "version": "3.7.6"
  }
 },
 "nbformat": 4,
 "nbformat_minor": 4
}
