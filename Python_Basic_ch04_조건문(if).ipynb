{
 "cells": [
  {
   "cell_type": "markdown",
   "metadata": {},
   "source": [
    "## 조건문(condition)\n",
    "\n",
    "1.if, elif, else\n",
    "- 특정조건을 만족하는 경우에만 수행할 작업이 있는 경우 사용\n",
    "- 모든 조건은 boolean으로 표현(예외 사항 있음)\n",
    "- if, elif, else 키워드 사용\n",
    "- 조건문의 경우 if, elif, else 블록 내에 종속 된 코드로 들여쓰기 표현  ,중요\n",
    "- python에서 모든 블록문의 시작점의 마지막에는 :(콜론, colon) 추가\n",
    "\n",
    "```python\n",
    "# if문 기본 문법\n",
    "# if~slif~else가 하나의 체인으로 연결\n",
    "# 위에서 아래로 해석하며, 참인 경우 그 후로는 실행 X\n",
    "if 조건문:\n",
    "    실행문\n",
    "elif 조건문:\n",
    "    실행문\n",
    "else:\n",
    "    실행문\n",
    "```\n",
    "\n",
    "```python\n",
    "#서로 다른 if문\n",
    "if 조건문:\n",
    "    실행문\n",
    "    \n",
    "if 조건문:\n",
    "    실행문\n",
    "```\n",
    "\n",
    "```python\n",
    "# 중첩 if문\n",
    "if 조건문:\n",
    "    실행문:\n",
    "    if 조건문:\n",
    "        실행문\n",
    "        if 조건문:\n",
    "            실행문\n",
    "```"
   ]
  },
  {
   "cell_type": "code",
   "execution_count": 7,
   "metadata": {},
   "outputs": [],
   "source": [
    "# if 조건이 1개인 경우(성인 판단)\n",
    "age = 18\n",
    "\n",
    "if age >= 20:\n",
    "    print(\"성인\")"
   ]
  },
  {
   "cell_type": "code",
   "execution_count": 10,
   "metadata": {},
   "outputs": [
    {
     "name": "stdout",
     "output_type": "stream",
     "text": [
      "성인\n"
     ]
    }
   ],
   "source": [
    "# if~else 조건 1개와 조건 이외의 경우\n",
    "age = 22\n",
    "if age >= 20:\n",
    "    print(\"성인\")\n",
    "else:\n",
    "    print(\"학생\")"
   ]
  },
  {
   "cell_type": "code",
   "execution_count": 11,
   "metadata": {},
   "outputs": [
    {
     "name": "stdout",
     "output_type": "stream",
     "text": [
      "3학년\n"
     ]
    }
   ],
   "source": [
    "# if~elif 조건이 2개 이상인 경우\n",
    "grade = 3\n",
    "if grade == 4:\n",
    "    print(\"4학년\")\n",
    "elif grade == 3:\n",
    "    print(\"3학년\")\n",
    "elif grade == 2:\n",
    "    print(\"2학년\")\n",
    "elif grade == 1:\n",
    "    print(\"1학년\")"
   ]
  },
  {
   "cell_type": "code",
   "execution_count": 12,
   "metadata": {},
   "outputs": [
    {
     "name": "stdout",
     "output_type": "stream",
     "text": [
      "1등급\n"
     ]
    }
   ],
   "source": [
    "# if~elif~else 조건 2개 이상과 조건 이외의 경우\n",
    "socre = 95\n",
    "if socre>= 90:\n",
    "    print(\"1등급\")\n",
    "elif socre >= 80:\n",
    "    print(\"2등급\")\n",
    "elif socre >= 70:\n",
    "    print(\"3등급\")\n",
    "elif socre >= 60:\n",
    "    print(\"4등급\")\n",
    "else:\n",
    "    print(\"5등급\")"
   ]
  },
  {
   "cell_type": "markdown",
   "metadata": {},
   "source": [
    "### 2.if의 조건이 boolean 경우\n",
    "- 일반적으로 조건문은 boolean\n",
    "- 하지만, 정수, 실수, 문자열, 리스트 등 기본 타입도 조건에 사용 가능\n",
    "- False로 간주되는 값(각 타입의 기본값)\n",
    "\n",
    "  + None\n",
    "  + 0\n",
    "  + 0.0\n",
    "  + \"\"\n",
    "  + []\n",
    "  + ()\n",
    "  + {}\n",
    "  + set()\n",
    "  + 그 밖에 모두 True로 간주\n",
    "  "
   ]
  },
  {
   "cell_type": "markdown",
   "metadata": {},
   "source": [
    "### 3.논리 연산자(AND, OR, NOT)\n",
    "\n",
    "논리표  ,# 외워라\n",
    "  - AND\n",
    "    + T and T : T\n",
    "    + T and F : F\n",
    "    + F and T : F\n",
    "    + F and F : F\n",
    "  - OR\n",
    "    + T or T : T\n",
    "    + T or F : T\n",
    "    + F or T : T\n",
    "    + F or F : F\n",
    "  - NOT\n",
    "    + not T : F\n",
    "    + not F : T"
   ]
  }
 ],
 "metadata": {
  "kernelspec": {
   "display_name": "Python 3",
   "language": "python",
   "name": "python3"
  },
  "language_info": {
   "codemirror_mode": {
    "name": "ipython",
    "version": 3
   },
   "file_extension": ".py",
   "mimetype": "text/x-python",
   "name": "python",
   "nbconvert_exporter": "python",
   "pygments_lexer": "ipython3",
   "version": "3.7.6"
  }
 },
 "nbformat": 4,
 "nbformat_minor": 4
}
